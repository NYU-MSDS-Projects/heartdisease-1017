{
  "nbformat": 4,
  "nbformat_minor": 0,
  "metadata": {
    "colab": {
      "name": "1017_FinalProject_Fairness_ppg228",
      "provenance": [],
      "collapsed_sections": [],
      "toc_visible": true
    },
    "kernelspec": {
      "name": "python3",
      "display_name": "Python 3"
    }
  },
  "cells": [
    {
      "cell_type": "code",
      "metadata": {
        "colab": {
          "base_uri": "https://localhost:8080/"
        },
        "id": "0VezuO8eVVK1",
        "outputId": "547b8d7b-23d5-4833-d19b-026e5867c3a6"
      },
      "source": [
        "#install packages\n",
        "!pip install numba==0.48\n",
        "!pip install aif360==0.3.0rc0\n",
        "!pip install BlackBoxAuditing"
      ],
      "execution_count": 14,
      "outputs": [
        {
          "output_type": "stream",
          "text": [
            "Requirement already satisfied: numba==0.48 in /usr/local/lib/python3.7/dist-packages (0.48.0)\n",
            "Requirement already satisfied: llvmlite<0.32.0,>=0.31.0dev0 in /usr/local/lib/python3.7/dist-packages (from numba==0.48) (0.31.0)\n",
            "Requirement already satisfied: numpy>=1.15 in /usr/local/lib/python3.7/dist-packages (from numba==0.48) (1.19.5)\n",
            "Requirement already satisfied: setuptools in /usr/local/lib/python3.7/dist-packages (from numba==0.48) (56.0.0)\n",
            "Requirement already satisfied: aif360==0.3.0rc0 in /usr/local/lib/python3.7/dist-packages (0.3.0rc0)\n",
            "Requirement already satisfied: numpy>=1.16 in /usr/local/lib/python3.7/dist-packages (from aif360==0.3.0rc0) (1.19.5)\n",
            "Requirement already satisfied: scipy>=1.2.0 in /usr/local/lib/python3.7/dist-packages (from aif360==0.3.0rc0) (1.4.1)\n",
            "Requirement already satisfied: scikit-learn>=0.21 in /usr/local/lib/python3.7/dist-packages (from aif360==0.3.0rc0) (0.22.2.post1)\n",
            "Requirement already satisfied: matplotlib in /usr/local/lib/python3.7/dist-packages (from aif360==0.3.0rc0) (3.2.2)\n",
            "Requirement already satisfied: pandas>=0.24.0 in /usr/local/lib/python3.7/dist-packages (from aif360==0.3.0rc0) (1.1.5)\n",
            "Requirement already satisfied: joblib>=0.11 in /usr/local/lib/python3.7/dist-packages (from scikit-learn>=0.21->aif360==0.3.0rc0) (1.0.1)\n",
            "Requirement already satisfied: pyparsing!=2.0.4,!=2.1.2,!=2.1.6,>=2.0.1 in /usr/local/lib/python3.7/dist-packages (from matplotlib->aif360==0.3.0rc0) (2.4.7)\n",
            "Requirement already satisfied: python-dateutil>=2.1 in /usr/local/lib/python3.7/dist-packages (from matplotlib->aif360==0.3.0rc0) (2.8.1)\n",
            "Requirement already satisfied: kiwisolver>=1.0.1 in /usr/local/lib/python3.7/dist-packages (from matplotlib->aif360==0.3.0rc0) (1.3.1)\n",
            "Requirement already satisfied: cycler>=0.10 in /usr/local/lib/python3.7/dist-packages (from matplotlib->aif360==0.3.0rc0) (0.10.0)\n",
            "Requirement already satisfied: pytz>=2017.2 in /usr/local/lib/python3.7/dist-packages (from pandas>=0.24.0->aif360==0.3.0rc0) (2018.9)\n",
            "Requirement already satisfied: six>=1.5 in /usr/local/lib/python3.7/dist-packages (from python-dateutil>=2.1->matplotlib->aif360==0.3.0rc0) (1.15.0)\n",
            "Requirement already satisfied: BlackBoxAuditing in /usr/local/lib/python3.7/dist-packages (0.1.54)\n",
            "Requirement already satisfied: matplotlib in /usr/local/lib/python3.7/dist-packages (from BlackBoxAuditing) (3.2.2)\n",
            "Requirement already satisfied: pandas in /usr/local/lib/python3.7/dist-packages (from BlackBoxAuditing) (1.1.5)\n",
            "Requirement already satisfied: numpy in /usr/local/lib/python3.7/dist-packages (from BlackBoxAuditing) (1.19.5)\n",
            "Requirement already satisfied: networkx in /usr/local/lib/python3.7/dist-packages (from BlackBoxAuditing) (2.5.1)\n",
            "Requirement already satisfied: kiwisolver>=1.0.1 in /usr/local/lib/python3.7/dist-packages (from matplotlib->BlackBoxAuditing) (1.3.1)\n",
            "Requirement already satisfied: python-dateutil>=2.1 in /usr/local/lib/python3.7/dist-packages (from matplotlib->BlackBoxAuditing) (2.8.1)\n",
            "Requirement already satisfied: pyparsing!=2.0.4,!=2.1.2,!=2.1.6,>=2.0.1 in /usr/local/lib/python3.7/dist-packages (from matplotlib->BlackBoxAuditing) (2.4.7)\n",
            "Requirement already satisfied: cycler>=0.10 in /usr/local/lib/python3.7/dist-packages (from matplotlib->BlackBoxAuditing) (0.10.0)\n",
            "Requirement already satisfied: pytz>=2017.2 in /usr/local/lib/python3.7/dist-packages (from pandas->BlackBoxAuditing) (2018.9)\n",
            "Requirement already satisfied: decorator<5,>=4.3 in /usr/local/lib/python3.7/dist-packages (from networkx->BlackBoxAuditing) (4.4.2)\n",
            "Requirement already satisfied: six>=1.5 in /usr/local/lib/python3.7/dist-packages (from python-dateutil>=2.1->matplotlib->BlackBoxAuditing) (1.15.0)\n"
          ],
          "name": "stdout"
        }
      ]
    },
    {
      "cell_type": "code",
      "metadata": {
        "id": "DPFOAP7Xokqy"
      },
      "source": [
        "#import packages\n",
        "import numpy as np\n",
        "import pandas as pd\n",
        "\n",
        "import BlackBoxAuditing\n",
        "\n",
        "from aif360.algorithms.preprocessing import Reweighing, DisparateImpactRemover\n",
        "from aif360.datasets import AdultDataset, StandardDataset, BinaryLabelDataset\n",
        "from aif360.metrics import BinaryLabelDatasetMetric, ClassificationMetric\n",
        "from aif360.algorithms.postprocessing import EqOddsPostprocessing, RejectOptionClassification\n",
        "from aif360.algorithms.preprocessing.optim_preproc_helpers.data_preproc_functions import load_preproc_data_adult\n",
        "\n",
        "import matplotlib.pyplot as plt\n",
        "%matplotlib inline\n",
        "\n",
        "from sklearn.metrics import accuracy_score, roc_auc_score, confusion_matrix\n",
        "from sklearn.neural_network import MLPClassifier\n",
        "from sklearn.model_selection import train_test_split\n",
        "from sklearn.preprocessing import normalize\n",
        "\n",
        "from google.colab import files\n",
        "import io"
      ],
      "execution_count": 15,
      "outputs": []
    },
    {
      "cell_type": "markdown",
      "metadata": {
        "id": "kp9XaeYU1TSX"
      },
      "source": [
        "## Loading and Splitting Data"
      ]
    },
    {
      "cell_type": "code",
      "metadata": {
        "colab": {
          "resources": {
            "http://localhost:8080/nbextensions/google.colab/files.js": {
              "data": "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",
              "ok": true,
              "headers": [
                [
                  "content-type",
                  "application/javascript"
                ]
              ],
              "status": 200,
              "status_text": ""
            }
          },
          "base_uri": "https://localhost:8080/",
          "height": 259
        },
        "id": "CVQtlvcBnmGC",
        "outputId": "e287c398-3706-4f08-bd0c-98742b0903df"
      },
      "source": [
        "#read in the dataset\n",
        "uploaded = files.upload()\n",
        "heart = pd.read_csv(io.BytesIO(uploaded['heart.csv']))\n",
        "\n",
        "heart.head()"
      ],
      "execution_count": 16,
      "outputs": [
        {
          "output_type": "display_data",
          "data": {
            "text/html": [
              "\n",
              "     <input type=\"file\" id=\"files-f0af6d87-22f5-404a-b41f-9100911174f4\" name=\"files[]\" multiple disabled\n",
              "        style=\"border:none\" />\n",
              "     <output id=\"result-f0af6d87-22f5-404a-b41f-9100911174f4\">\n",
              "      Upload widget is only available when the cell has been executed in the\n",
              "      current browser session. Please rerun this cell to enable.\n",
              "      </output>\n",
              "      <script src=\"/nbextensions/google.colab/files.js\"></script> "
            ],
            "text/plain": [
              "<IPython.core.display.HTML object>"
            ]
          },
          "metadata": {
            "tags": []
          }
        },
        {
          "output_type": "stream",
          "text": [
            "Saving heart.csv to heart (1).csv\n"
          ],
          "name": "stdout"
        },
        {
          "output_type": "execute_result",
          "data": {
            "text/html": [
              "<div>\n",
              "<style scoped>\n",
              "    .dataframe tbody tr th:only-of-type {\n",
              "        vertical-align: middle;\n",
              "    }\n",
              "\n",
              "    .dataframe tbody tr th {\n",
              "        vertical-align: top;\n",
              "    }\n",
              "\n",
              "    .dataframe thead th {\n",
              "        text-align: right;\n",
              "    }\n",
              "</style>\n",
              "<table border=\"1\" class=\"dataframe\">\n",
              "  <thead>\n",
              "    <tr style=\"text-align: right;\">\n",
              "      <th></th>\n",
              "      <th>age</th>\n",
              "      <th>sex</th>\n",
              "      <th>cp</th>\n",
              "      <th>trestbps</th>\n",
              "      <th>chol</th>\n",
              "      <th>fbs</th>\n",
              "      <th>restecg</th>\n",
              "      <th>thalach</th>\n",
              "      <th>exang</th>\n",
              "      <th>oldpeak</th>\n",
              "      <th>slope</th>\n",
              "      <th>ca</th>\n",
              "      <th>thal</th>\n",
              "      <th>target</th>\n",
              "    </tr>\n",
              "  </thead>\n",
              "  <tbody>\n",
              "    <tr>\n",
              "      <th>0</th>\n",
              "      <td>63</td>\n",
              "      <td>1</td>\n",
              "      <td>3</td>\n",
              "      <td>145</td>\n",
              "      <td>233</td>\n",
              "      <td>1</td>\n",
              "      <td>0</td>\n",
              "      <td>150</td>\n",
              "      <td>0</td>\n",
              "      <td>2.3</td>\n",
              "      <td>0</td>\n",
              "      <td>0</td>\n",
              "      <td>1</td>\n",
              "      <td>1</td>\n",
              "    </tr>\n",
              "    <tr>\n",
              "      <th>1</th>\n",
              "      <td>37</td>\n",
              "      <td>1</td>\n",
              "      <td>2</td>\n",
              "      <td>130</td>\n",
              "      <td>250</td>\n",
              "      <td>0</td>\n",
              "      <td>1</td>\n",
              "      <td>187</td>\n",
              "      <td>0</td>\n",
              "      <td>3.5</td>\n",
              "      <td>0</td>\n",
              "      <td>0</td>\n",
              "      <td>2</td>\n",
              "      <td>1</td>\n",
              "    </tr>\n",
              "    <tr>\n",
              "      <th>2</th>\n",
              "      <td>41</td>\n",
              "      <td>0</td>\n",
              "      <td>1</td>\n",
              "      <td>130</td>\n",
              "      <td>204</td>\n",
              "      <td>0</td>\n",
              "      <td>0</td>\n",
              "      <td>172</td>\n",
              "      <td>0</td>\n",
              "      <td>1.4</td>\n",
              "      <td>2</td>\n",
              "      <td>0</td>\n",
              "      <td>2</td>\n",
              "      <td>1</td>\n",
              "    </tr>\n",
              "    <tr>\n",
              "      <th>3</th>\n",
              "      <td>56</td>\n",
              "      <td>1</td>\n",
              "      <td>1</td>\n",
              "      <td>120</td>\n",
              "      <td>236</td>\n",
              "      <td>0</td>\n",
              "      <td>1</td>\n",
              "      <td>178</td>\n",
              "      <td>0</td>\n",
              "      <td>0.8</td>\n",
              "      <td>2</td>\n",
              "      <td>0</td>\n",
              "      <td>2</td>\n",
              "      <td>1</td>\n",
              "    </tr>\n",
              "    <tr>\n",
              "      <th>4</th>\n",
              "      <td>57</td>\n",
              "      <td>0</td>\n",
              "      <td>0</td>\n",
              "      <td>120</td>\n",
              "      <td>354</td>\n",
              "      <td>0</td>\n",
              "      <td>1</td>\n",
              "      <td>163</td>\n",
              "      <td>1</td>\n",
              "      <td>0.6</td>\n",
              "      <td>2</td>\n",
              "      <td>0</td>\n",
              "      <td>2</td>\n",
              "      <td>1</td>\n",
              "    </tr>\n",
              "  </tbody>\n",
              "</table>\n",
              "</div>"
            ],
            "text/plain": [
              "   age  sex  cp  trestbps  chol  fbs  ...  exang  oldpeak  slope  ca  thal  target\n",
              "0   63    1   3       145   233    1  ...      0      2.3      0   0     1       1\n",
              "1   37    1   2       130   250    0  ...      0      3.5      0   0     2       1\n",
              "2   41    0   1       130   204    0  ...      0      1.4      2   0     2       1\n",
              "3   56    1   1       120   236    0  ...      0      0.8      2   0     2       1\n",
              "4   57    0   0       120   354    0  ...      1      0.6      2   0     2       1\n",
              "\n",
              "[5 rows x 14 columns]"
            ]
          },
          "metadata": {
            "tags": []
          },
          "execution_count": 16
        }
      ]
    },
    {
      "cell_type": "code",
      "metadata": {
        "id": "2NXv_DkZcV1W"
      },
      "source": [
        "#split data into X and y and scale the X\n",
        "X = heart[list(heart.columns)[0:-1]]\n",
        "y = heart['target']\n",
        "\n",
        "X_norm = normalize(X, norm='l2')"
      ],
      "execution_count": 17,
      "outputs": []
    },
    {
      "cell_type": "code",
      "metadata": {
        "id": "zo6UTWM5dAoO"
      },
      "source": [
        "#split the dataset into train, val, test using the same seeds as the ADS\n",
        "X_train, X_hold, y_train, y_hold = train_test_split(X_norm, y, test_size=0.33, random_state=101) \n",
        "X_val, X_test, y_val, y_test = train_test_split(X_hold, y_hold, test_size=0.5, random_state=42)\n",
        "\n",
        "#PROBLEM: BY NORMALIZING IN THE MANNER IN WHICH HE DID, HE CHANGED THE INPUT SPACE OF FEATURES LIKE SEX\n",
        "#WE NEED TO MAP THIS NEW COLUMN BACK TO A BINARY 0/1 COLUMN IN THE DATASET BEFORE FITTING THE DATASET\n",
        "\n",
        "#resplitting data with same seed without normalizing (used to validate that 0 stayed 0 and 1 changed to decimal)\n",
        "X_check_train, X_thing = train_test_split(X, test_size=0.33, random_state=101) \n",
        "X_check_val, X_check_test = train_test_split(X_thing, test_size=0.5, random_state=42)"
      ],
      "execution_count": 18,
      "outputs": []
    },
    {
      "cell_type": "markdown",
      "metadata": {
        "id": "onEvMFGy1ZXd"
      },
      "source": [
        "## AIF360 Fairness Metrics (Author's Test Data Set)"
      ]
    },
    {
      "cell_type": "markdown",
      "metadata": {
        "id": "4bPX0Myv9dGE"
      },
      "source": [
        "####Format data"
      ]
    },
    {
      "cell_type": "code",
      "metadata": {
        "id": "aLV3yvLOdKcS"
      },
      "source": [
        "#save datasets at BinaryLabelDatasets\n",
        "\n",
        "#join X and y data together into an array\n",
        "train_arr = np.hstack((X_train, y_train.to_numpy().reshape(-1,1)))\n",
        "val_arr = np.hstack((X_val, y_val.to_numpy().reshape(-1,1)))\n",
        "test_arr = np.hstack((X_test, y_test.to_numpy().reshape(-1,1)))\n",
        "\n",
        "#convert back into dataframe\n",
        "train_df = pd.DataFrame(data=train_arr, columns=heart.columns)\n",
        "val_df = pd.DataFrame(data=val_arr, columns=heart.columns)\n",
        "test_df = pd.DataFrame(data=test_arr, columns=heart.columns)\n",
        "\n",
        "#make sure sex remains binary (this was undone with scaling but 0s remained 0)\n",
        "train_df.loc[train_df.sex != 0, 'sex'] = 1\n",
        "val_df.loc[val_df.sex != 0, 'sex'] = 1\n",
        "test_df.loc[test_df.sex != 0, 'sex'] = 1\n",
        "\n",
        "#convert sex and target back to int\n",
        "test_df.sex = test_df.sex.astype(int)\n",
        "test_df.target = test_df.target.astype(int)\n",
        "\n",
        "val_df.sex = val_df.sex.astype(int)\n",
        "val_df.target = val_df.target.astype(int)\n",
        "\n",
        "train_df.sex = train_df.sex.astype(int)\n",
        "train_df.target = train_df.target.astype(int)"
      ],
      "execution_count": 19,
      "outputs": []
    },
    {
      "cell_type": "markdown",
      "metadata": {
        "id": "JLlZ-zXHBZyK"
      },
      "source": [
        "####Convert in to aif360 Objects"
      ]
    },
    {
      "cell_type": "code",
      "metadata": {
        "id": "MblVAazKUe33"
      },
      "source": [
        "#generate binary label datasets for each of the datasets with the truth value for the target\n",
        "heart_train_dataset_truth = BinaryLabelDataset(\n",
        "    favorable_label=1,\n",
        "    unfavorable_label=0,\n",
        "    df=train_df,\n",
        "    label_names=['target'],\n",
        "    protected_attribute_names=['sex'])\n",
        "\n",
        "heart_val_dataset_truth = BinaryLabelDataset(\n",
        "    favorable_label=1,\n",
        "    unfavorable_label=0,\n",
        "    df=val_df,\n",
        "    label_names=['target'],\n",
        "    protected_attribute_names=['sex'])\n",
        "\n",
        "heart_test_dataset_truth = BinaryLabelDataset(\n",
        "    favorable_label=1,\n",
        "    unfavorable_label=0,\n",
        "    df=test_df,\n",
        "    label_names=['target'],\n",
        "    protected_attribute_names=['sex'])\n",
        "\n",
        "#save copies of these datasets in order to swap in predictions\n",
        "heart_train_dataset_preds = heart_train_dataset_truth.copy()\n",
        "heart_val_dataset_preds = heart_val_dataset_truth.copy()\n",
        "heart_test_dataset_preds = heart_test_dataset_truth.copy()"
      ],
      "execution_count": 20,
      "outputs": []
    },
    {
      "cell_type": "markdown",
      "metadata": {
        "id": "afY_yJ2G9hkz"
      },
      "source": [
        "####Fit Model"
      ]
    },
    {
      "cell_type": "code",
      "metadata": {
        "colab": {
          "base_uri": "https://localhost:8080/"
        },
        "id": "uQHVUir2V_-0",
        "outputId": "a2fd400d-4ec8-4b40-8697-f5f68c82f952"
      },
      "source": [
        "#run this model matching ADS params\n",
        "model = MLPClassifier(solver='lbfgs', alpha=1e-5, hidden_layer_sizes=(5000, 10), random_state=1)\n",
        "model.fit(X_train, y_train)\n",
        "\n",
        "#confirm same prediction scores as ADS\n",
        "print('Val score:',model.score(X_val, y_val))\n",
        "print('Test score:',model.score(X_test, y_test))\n",
        "\n",
        "#save preditions on test data\n",
        "y_preds = model.predict(X_test)"
      ],
      "execution_count": 21,
      "outputs": [
        {
          "output_type": "stream",
          "text": [
            "Val score: 0.78\n",
            "Test score: 0.92\n"
          ],
          "name": "stdout"
        },
        {
          "output_type": "stream",
          "text": [
            "/usr/local/lib/python3.7/dist-packages/sklearn/neural_network/_multilayer_perceptron.py:470: ConvergenceWarning: lbfgs failed to converge (status=1):\n",
            "STOP: TOTAL NO. of ITERATIONS REACHED LIMIT.\n",
            "\n",
            "Increase the number of iterations (max_iter) or scale the data as shown in:\n",
            "    https://scikit-learn.org/stable/modules/preprocessing.html\n",
            "  self.n_iter_ = _check_optimize_result(\"lbfgs\", opt_res, self.max_iter)\n"
          ],
          "name": "stderr"
        }
      ]
    },
    {
      "cell_type": "markdown",
      "metadata": {
        "id": "qzIT1VIhBsd1"
      },
      "source": [
        "####Print Metrics"
      ]
    },
    {
      "cell_type": "code",
      "metadata": {
        "id": "UUIxuEdei1AA"
      },
      "source": [
        "#save predictions into the dataset\n",
        "heart_test_dataset_preds.labels = y_preds.reshape(-1,1)\n",
        "\n",
        "privileged_groups = [{'sex': 1}]\n",
        "unprivileged_groups = [{'sex': 0}]\n",
        "\n",
        "#get classification metrics on test data\n",
        "metrics = ClassificationMetric(heart_test_dataset_truth, heart_test_dataset_preds,\n",
        "                      unprivileged_groups=unprivileged_groups,\n",
        "                      privileged_groups=privileged_groups)"
      ],
      "execution_count": 23,
      "outputs": []
    },
    {
      "cell_type": "code",
      "metadata": {
        "colab": {
          "base_uri": "https://localhost:8080/"
        },
        "id": "1NavqaIxtU-r",
        "outputId": "c3f23950-41b4-4368-8e80-dec3393a0d4b"
      },
      "source": [
        "#print comparison metrics\n",
        "print(\"Overall Test Accuracy:\", metrics.accuracy())\n",
        "print(\"Male Test Accuracy:\", metrics.accuracy(privileged=True))\n",
        "print(\"Female Test Accuracy:\", metrics.accuracy(privileged=False))\n",
        "print('')\n",
        "print(\"Test Disparate Impact:\", metrics.disparate_impact())\n",
        "print('')\n",
        "print(\"Test FPR:\", metrics.false_positive_rate())\n",
        "print(\"Test FPR Difference:\", metrics.false_positive_rate_difference())\n",
        "print(\"\")\n",
        "print(\"Test FNR:\", metrics.false_negative_rate())\n",
        "print(\"Test FNR Difference:\", metrics.false_negative_rate_difference())\n",
        "print('')\n",
        "print(\"Confusion Matrix:\")\n",
        "print(confusion_matrix(y_test, y_preds))"
      ],
      "execution_count": 24,
      "outputs": [
        {
          "output_type": "stream",
          "text": [
            "Overall Test Accuracy: 0.92\n",
            "Male Test Accuracy: 0.9166666666666666\n",
            "Female Test Accuracy: 0.9285714285714286\n",
            "\n",
            "Test Disparate Impact: 1.9285714285714286\n",
            "\n",
            "Test FPR: 0.15384615384615385\n",
            "Test FPR Difference: 0.20289855072463767\n",
            "\n",
            "Test FNR: 0.0\n",
            "Test FNR Difference: 0.0\n",
            "\n",
            "Confusion Matrix:\n",
            "[[22  4]\n",
            " [ 0 24]]\n"
          ],
          "name": "stdout"
        }
      ]
    },
    {
      "cell_type": "markdown",
      "metadata": {
        "id": "W2LbyNK0tUEu"
      },
      "source": [
        "####Metric Plots\n",
        "\n",
        "(we should have some metric plots for the \"nutrition label\")"
      ]
    },
    {
      "cell_type": "markdown",
      "metadata": {
        "id": "HxW09Z5FtbCJ"
      },
      "source": [
        "####Notes\n",
        "\n",
        "Notes\n",
        "- Disparate Impact >1 implies \"favorable\" outcomes for women\n",
        "- But in this case, \"favorable\" means more likely to be diagnosed with heart disease\n",
        "- DI is Pr(targ=1|women)/Pr(targ=1|men)\n",
        "\n",
        "Thought:\n",
        "- SHOULD WE EVALUATE THESE METRICS ON THE VAL AND TEST COMBINED GIVEN THE SIZE OF THE DATASET AND LACK OF HYPERPARAMETER TESTING\n",
        "- Maybe just throw the val in with the training data and keep the test data as is"
      ]
    },
    {
      "cell_type": "markdown",
      "metadata": {
        "id": "bvn4crzT9sv7"
      },
      "source": [
        "##AIF360 Fairness Metrics (Larger Test Set)\n",
        "\n",
        "We noticed that the author of this model leaves the validation set completely unused.  For a more accurate evaluation of the model, we append the valitation data to the test data and use that for our evaluations."
      ]
    },
    {
      "cell_type": "markdown",
      "metadata": {
        "id": "H3xx-wSMBzzW"
      },
      "source": [
        "####Format Data\n",
        "Combine test and val data into hold data"
      ]
    },
    {
      "cell_type": "code",
      "metadata": {
        "id": "u-nj33G01ed8"
      },
      "source": [
        "#use the intermediate held out dataset (test+val) in one dataset\n",
        "#take the same steps before to get this into a BinLib set\n",
        "\n",
        "hold_arr = np.hstack((X_hold, y_hold.to_numpy().reshape(-1,1)))\n",
        "#convert back into dataframe\n",
        "hold_df = pd.DataFrame(data=hold_arr, columns=heart.columns)\n",
        "#make sure sex remains binary (this was undone with scaling but 0s remained 0)\n",
        "hold_df.loc[hold_df.sex != 0, 'sex'] = 1\n",
        "#convert sex and target back to int\n",
        "hold_df.sex = hold_df.sex.astype(int)\n",
        "hold_df.target = hold_df.target.astype(int)\n",
        "\n",
        "heart_hold_dataset_truth = BinaryLabelDataset(\n",
        "    favorable_label=1,\n",
        "    unfavorable_label=0,\n",
        "    df=hold_df,\n",
        "    label_names=['target'],\n",
        "    protected_attribute_names=['sex'])\n",
        "\n",
        "heart_hold_dataset_preds = heart_hold_dataset_truth.copy()\n",
        "y_preds_new = model.predict(X_hold)\n",
        "\n",
        "heart_hold_dataset_preds.labels = y_preds_new.reshape(-1,1)"
      ],
      "execution_count": 25,
      "outputs": []
    },
    {
      "cell_type": "markdown",
      "metadata": {
        "id": "33yVoSmQB6s0"
      },
      "source": [
        "####Convert into air360 Objects"
      ]
    },
    {
      "cell_type": "code",
      "metadata": {
        "id": "2dKjS_KZ4ldm"
      },
      "source": [
        "#get classification metrics on bigger test data\n",
        "metrics_new = ClassificationMetric(heart_hold_dataset_truth, heart_hold_dataset_preds,\n",
        "                      unprivileged_groups=unprivileged_groups,\n",
        "                      privileged_groups=privileged_groups)"
      ],
      "execution_count": 26,
      "outputs": []
    },
    {
      "cell_type": "markdown",
      "metadata": {
        "id": "5nMpIkHJt-JV"
      },
      "source": [
        "####Print Metrics"
      ]
    },
    {
      "cell_type": "code",
      "metadata": {
        "colab": {
          "base_uri": "https://localhost:8080/"
        },
        "id": "oKW3YhdG4uoM",
        "outputId": "59f080d2-e0c6-4915-f62a-d53bb4f8f782"
      },
      "source": [
        "#print comparizon metrics\n",
        "print(\"Overall Combined Test Accuracy:\", metrics_new.accuracy())\n",
        "print(\"Male Combined Test Accuracy:\", metrics_new.accuracy(privileged=True))\n",
        "print(\"Female Combined Test Accuracy:\", metrics_new.accuracy(privileged=False))\n",
        "print('')\n",
        "print(\"Combined Test Disparate Impact:\", metrics_new.disparate_impact())\n",
        "print('')\n",
        "print(\"Combined Test FPR:\", metrics_new.false_positive_rate())\n",
        "print(\"Combined Test FPR Difference:\", metrics_new.false_positive_rate_difference())\n",
        "print(\"\")\n",
        "print(\"Combined Test FNR:\", metrics_new.false_negative_rate())\n",
        "print(\"Combined Test FNR Difference:\", metrics_new.false_negative_rate_difference())\n",
        "print('')\n",
        "print(\"Combined Confusion Matrix:\")\n",
        "print(confusion_matrix(y_hold, y_preds_new))"
      ],
      "execution_count": 27,
      "outputs": [
        {
          "output_type": "stream",
          "text": [
            "Overall Combined Test Accuracy: 0.85\n",
            "Male Combined Test Accuracy: 0.821917808219178\n",
            "Female Combined Test Accuracy: 0.9259259259259259\n",
            "\n",
            "Combined Test Disparate Impact: 1.828976034858388\n",
            "\n",
            "Combined Test FPR: 0.20833333333333334\n",
            "Combined Test FPR Difference: 0.04545454545454544\n",
            "\n",
            "Combined Test FNR: 0.09615384615384616\n",
            "Combined Test FNR Difference: -0.0944527736131934\n",
            "\n",
            "Combined Confusion Matrix:\n",
            "[[38 10]\n",
            " [ 5 47]]\n"
          ],
          "name": "stdout"
        }
      ]
    },
    {
      "cell_type": "markdown",
      "metadata": {
        "id": "wq6vq4O9uRoF"
      },
      "source": [
        "####Plot Metrics"
      ]
    },
    {
      "cell_type": "markdown",
      "metadata": {
        "id": "Br7PdlLB_xYH"
      },
      "source": [
        "##DisparateImpactRemover Implementation\n",
        "Here we impleent a simple disparate impact remover algorimth too see how the data is affected."
      ]
    },
    {
      "cell_type": "markdown",
      "metadata": {
        "id": "X3vCpChQCS71"
      },
      "source": [
        "####Format data and Train DI Remover"
      ]
    },
    {
      "cell_type": "code",
      "metadata": {
        "id": "Ury7AUVXBC1B"
      },
      "source": [
        "#intiates disparate impact repair on data sets\n",
        "DIR = DisparateImpactRemover(repair_level=1)\n",
        "train_DIR = DIR.fit_transform(heart_train_dataset_truth)\n",
        "val_DIR = DIR.fit_transform(heart_val_dataset_truth)\n",
        "test_DIR = DIR.fit_transform(heart_test_dataset_truth)\n",
        "hold_DIR = DIR.fit_transform(heart_hold_dataset_truth)\n",
        "\n",
        "#save copies of these datasets in order to swap in predictions\n",
        "train_DIR_preds = train_DIR.copy()\n",
        "val_DIR_preds = val_DIR.copy()\n",
        "test_DIR_preds = test_DIR.copy()\n",
        "hold_DIR_preds = hold_DIR.copy()\n",
        "\n",
        "feature_names = train_DIR.feature_names + ['target']\n",
        "\n",
        "rep_train_pd = pd.DataFrame(np.hstack([train_DIR.features,train_DIR.labels]),columns=feature_names)\n",
        "rep_val_pd = pd.DataFrame(np.hstack([val_DIR.features,val_DIR.labels]),columns=feature_names)\n",
        "rep_test_pd = pd.DataFrame(np.hstack([test_DIR.features,test_DIR.labels]),columns=feature_names)\n",
        "rep_hold_pd = pd.DataFrame(np.hstack([hold_DIR.features,hold_DIR.labels]),columns=feature_names)\n",
        "\n",
        "#features\n",
        "X_train_rep = rep_train_pd[feature_names[:-1]]\n",
        "X_val_rep = rep_val_pd[feature_names[:-1]]\n",
        "X_test_rep = rep_test_pd[feature_names[:-1]]\n",
        "X_hold_rep = rep_hold_pd[feature_names[:-1]]\n",
        "\n",
        "#labels\n",
        "y_train_rep = rep_train_pd[feature_names[-1]]\n",
        "y_val_rep = rep_val_pd[feature_names[-1]]\n",
        "y_test_rep = rep_test_pd[feature_names[-1]]\n",
        "y_hold_rep = rep_hold_pd[feature_names[-1]]"
      ],
      "execution_count": 28,
      "outputs": []
    },
    {
      "cell_type": "markdown",
      "metadata": {
        "id": "cRWP0KipCfcU"
      },
      "source": [
        "####Train Model"
      ]
    },
    {
      "cell_type": "code",
      "metadata": {
        "colab": {
          "base_uri": "https://localhost:8080/"
        },
        "id": "0Xbs3ArDCNfe",
        "outputId": "c71a4ca0-9cde-404e-c6e5-1ea2c45b076d"
      },
      "source": [
        "model_rep = MLPClassifier(solver='lbfgs', alpha=1e-5, hidden_layer_sizes=(5000, 10), random_state=1)\n",
        "\n",
        "model_rep.fit(X_train_rep,y_train_rep)\n",
        "#confirm same prediction scores as ADS\n",
        "print('Hold score:',model_rep.score(X_hold_rep, y_hold_rep))\n",
        "\n",
        "#save preditions on test data\n",
        "y_preds_rep = model_rep.predict(X_hold_rep)"
      ],
      "execution_count": 29,
      "outputs": [
        {
          "output_type": "stream",
          "text": [
            "Hold score: 0.83\n"
          ],
          "name": "stdout"
        },
        {
          "output_type": "stream",
          "text": [
            "/usr/local/lib/python3.7/dist-packages/sklearn/neural_network/_multilayer_perceptron.py:470: ConvergenceWarning: lbfgs failed to converge (status=1):\n",
            "STOP: TOTAL NO. of ITERATIONS REACHED LIMIT.\n",
            "\n",
            "Increase the number of iterations (max_iter) or scale the data as shown in:\n",
            "    https://scikit-learn.org/stable/modules/preprocessing.html\n",
            "  self.n_iter_ = _check_optimize_result(\"lbfgs\", opt_res, self.max_iter)\n"
          ],
          "name": "stderr"
        }
      ]
    },
    {
      "cell_type": "markdown",
      "metadata": {
        "id": "C_cgqAO4Co2v"
      },
      "source": [
        "####Print Metrics"
      ]
    },
    {
      "cell_type": "code",
      "metadata": {
        "id": "eE0fVEX3DBoe"
      },
      "source": [
        "#save predictions into the dataset\n",
        "hold_DIR_preds.labels = y_preds_rep.reshape(-1,1)\n",
        "\n",
        "privileged_groups = [{'sex': 1}]\n",
        "unprivileged_groups = [{'sex': 0}]\n",
        "\n",
        "#get classification metrics on test data\n",
        "metrics_rep = ClassificationMetric(hold_DIR, hold_DIR_preds,\n",
        "                      unprivileged_groups=unprivileged_groups,\n",
        "                      privileged_groups=privileged_groups)"
      ],
      "execution_count": 30,
      "outputs": []
    },
    {
      "cell_type": "code",
      "metadata": {
        "colab": {
          "base_uri": "https://localhost:8080/"
        },
        "id": "-rXElQDyhj4F",
        "outputId": "35294e73-a190-4d39-bef8-9b254fd02325"
      },
      "source": [
        "#print comparizon metrics\n",
        "print(\"Overall Combined Test Accuracy:\", metrics_rep.accuracy())\n",
        "print(\"Male Combined Test Accuracy:\", metrics_rep.accuracy(privileged=True))\n",
        "print(\"Female Combined Test Accuracy:\", metrics_rep.accuracy(privileged=False))\n",
        "print('')\n",
        "print(\"Combined Test Disparate Impact:\", metrics_rep.disparate_impact())\n",
        "print('')\n",
        "print(\"Combined Test FPR:\", metrics_rep.false_positive_rate())\n",
        "print(\"Combined Test FPR Difference:\", metrics_rep.false_positive_rate_difference())\n",
        "print(\"\")\n",
        "print(\"Combined Test FNR:\", metrics_rep.false_negative_rate())\n",
        "print(\"Combined Test FNR Difference:\", metrics_rep.false_negative_rate_difference())\n",
        "print('')\n",
        "print(\"Combined Confusion Matrix:\")\n",
        "print(confusion_matrix(y_hold_rep, y_preds_rep))"
      ],
      "execution_count": 31,
      "outputs": [
        {
          "output_type": "stream",
          "text": [
            "Overall Combined Test Accuracy: 0.83\n",
            "Male Combined Test Accuracy: 0.7945205479452054\n",
            "Female Combined Test Accuracy: 0.9259259259259259\n",
            "\n",
            "Combined Test Disparate Impact: 1.6364522417153997\n",
            "\n",
            "Combined Test FPR: 0.2708333333333333\n",
            "Combined Test FPR Difference: -0.022727272727272707\n",
            "\n",
            "Combined Test FNR: 0.07692307692307693\n",
            "Combined Test FNR Difference: -0.05997001499250375\n",
            "\n",
            "Combined Confusion Matrix:\n",
            "[[35 13]\n",
            " [ 4 48]]\n"
          ],
          "name": "stdout"
        }
      ]
    },
    {
      "cell_type": "markdown",
      "metadata": {
        "id": "AgtJdqzRvJAI"
      },
      "source": [
        "####Plot Metrics"
      ]
    },
    {
      "cell_type": "code",
      "metadata": {
        "id": "2PE7sC2-GRDQ"
      },
      "source": [
        ""
      ],
      "execution_count": null,
      "outputs": []
    }
  ]
}